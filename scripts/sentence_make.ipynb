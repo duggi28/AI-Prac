{
 "cells": [
  {
   "cell_type": "code",
   "execution_count": 1,
   "id": "bbc0154c-8c8e-4afb-85a0-108627173597",
   "metadata": {},
   "outputs": [
    {
     "name": "stderr",
     "output_type": "stream",
     "text": [
      "/var/folders/3n/gp9rzrv579z2q0lgvxycfnbm0000gn/T/ipykernel_94868/300942373.py:2: DeprecationWarning: \n",
      "Pyarrow will become a required dependency of pandas in the next major release of pandas (pandas 3.0),\n",
      "(to allow more performant data types, such as the Arrow string type, and better interoperability with other libraries)\n",
      "but was not found to be installed on your system.\n",
      "If this would cause problems for you,\n",
      "please provide us feedback at https://github.com/pandas-dev/pandas/issues/54466\n",
      "        \n",
      "  import pandas as pd\n"
     ]
    },
    {
     "name": "stdout",
     "output_type": "stream",
     "text": [
      "25631\n"
     ]
    }
   ],
   "source": [
    "import numpy as np\n",
    "import pandas as pd\n",
    "\n",
    "# Count the total number of lines in the images CSV file\n",
    "num_lines_total = sum(1 for _ in open(\"images.csv\"))\n",
    "print(num_lines_total)\n",
    "\n",
    "# Read the selected image vectors from the CSV file using numpy\n",
    "images = pd.read_csv(\"images.csv\",header=None).values    "
   ]
  },
  {
   "cell_type": "code",
   "execution_count": 2,
   "id": "effe592f-b614-43a5-9fe9-fbdde0e89197",
   "metadata": {},
   "outputs": [
    {
     "name": "stdout",
     "output_type": "stream",
     "text": [
      "(25631, 2304)\n"
     ]
    }
   ],
   "source": [
    "print(images.shape)"
   ]
  },
  {
   "cell_type": "code",
   "execution_count": 7,
   "id": "072f76ce-0d54-4f6c-8875-52b8c7c712f7",
   "metadata": {},
   "outputs": [],
   "source": [
    "labels = pd.read_csv(\"labels.csv\",header=None).values   "
   ]
  },
  {
   "cell_type": "code",
   "execution_count": 10,
   "id": "15022181-aa0e-44c9-bcdb-45222f24ba75",
   "metadata": {},
   "outputs": [
    {
     "name": "stdout",
     "output_type": "stream",
     "text": [
      "(25632,)\n"
     ]
    }
   ],
   "source": [
    "print(labels.shape)\n",
    "labels=labels.reshape(labels.shape[0])"
   ]
  },
  {
   "cell_type": "code",
   "execution_count": 25,
   "id": "0828c807-b1c2-45dd-b8ee-fa421e7e1b8a",
   "metadata": {},
   "outputs": [
    {
     "name": "stdout",
     "output_type": "stream",
     "text": [
      "{0: '0x3042', 1: '0x3044', 2: '0x3046', 3: '0x3048', 4: '0x304a', 5: '0x304b', 6: '0x304c', 7: '0x304d', 8: '0x304e', 9: '0x304f', 10: '0x3050', 11: '0x3051', 12: '0x3052', 13: '0x3053', 14: '0x3054', 15: '0x3055', 16: '0x3056', 17: '0x3057', 18: '0x3058', 19: '0x3059', 20: '0x305a', 21: '0x305b', 22: '0x305c', 23: '0x305d', 24: '0x305e', 25: '0x305f', 26: '0x3060', 27: '0x3061', 28: '0x3062', 29: '0x3064', 30: '0x3065', 31: '0x3066', 32: '0x3067', 33: '0x3068', 34: '0x3069', 35: '0x306a', 36: '0x306b', 37: '0x306c', 38: '0x306d', 39: '0x306e', 40: '0x306f', 41: '0x3070', 42: '0x3071', 43: '0x3072', 44: '0x3073', 45: '0x3074', 46: '0x3075', 47: '0x3076', 48: '0x3077', 49: '0x3078', 50: '0x3079', 51: '0x307a', 52: '0x307b', 53: '0x307c', 54: '0x307d', 55: '0x307e', 56: '0x307f', 57: '0x3080', 58: '0x3081', 59: '0x3082', 60: '0x3084', 61: '0x3086', 62: '0x3088', 63: '0x3089', 64: '0x308a', 65: '0x308b', 66: '0x308c', 67: '0x308d', 68: '0x308f', 69: '0x3092', 70: '0x3093'}\n"
     ]
    }
   ],
   "source": [
    "import os\n",
    "unicode_to_class={}\n",
    "class_to_unicode={}\n",
    "unicodes=[\"3042\", \"3044\", \"3046\", \"3048\", \"304a\", \"304b\", \"304c\", \"304d\", \"304e\", \"304f\", \"3050\", \"3051\", \"3052\", \"3053\", \"3054\", \"3055\", \"3056\", \"3057\", \"3058\", \"3059\", \"305a\", \"305b\", \"305c\", \"305d\", \"305e\", \"305f\", \"3060\", \"3061\", \"3062\", \"3064\", \"3065\", \"3066\", \"3067\", \"3068\", \"3069\", \"306a\", \"306b\", \"306c\", \"306d\", \"306e\", \"306f\", \"3070\", \"3071\", \"3072\", \"3073\", \"3074\", \"3075\", \"3076\", \"3077\", \"3078\", \"3079\", \"307a\", \"307b\", \"307c\", \"307d\", \"307e\", \"307f\", \"3080\", \"3081\", \"3082\", \"3084\", \"3086\", \"3088\", \"3089\", \"308a\", \"308b\", \"308c\", \"308d\", \"308f\", \"3092\", \"3093\"]\n",
    "count=0\n",
    "for u in unicodes:\n",
    "    hex=\"0x\"+u\n",
    "    unicode_to_class[hex]=count\n",
    "    class_to_unicode[count]=hex\n",
    "    count+=1\n",
    "print(class_to_unicode)"
   ]
  },
  {
   "cell_type": "code",
   "execution_count": 34,
   "id": "01ace0a4-8ac0-44cf-8ed7-88e90969571b",
   "metadata": {},
   "outputs": [
    {
     "name": "stdout",
     "output_type": "stream",
     "text": [
      "0\n"
     ]
    }
   ],
   "source": [
    "import random\n",
    "import matplotlib.pyplot as plt\n",
    "import cv2\n",
    "import os\n",
    "import json\n",
    "\n",
    "# Define the number of image vectors to extract\n",
    "num_words = 10\n",
    "N=10\n",
    "\n",
    "path=\"\" #this is the folder to store the images\n",
    "sentence_labels={}\n",
    "\n",
    "for count in range(N):\n",
    "    sentence=[]\n",
    "    if count%100==0:\n",
    "        print(count)\n",
    "    tokens=[]\n",
    "    for i in range(num_words):\n",
    "        rand = random.randint(0,num_lines_total-1)\n",
    "        row = images[rand].reshape(48,48)[:,9:39]\n",
    "        sentence.append(row)\n",
    "        tokens.append(class_to_unicode[labels[rand]])\n",
    "    img=np.hstack(sentence)\n",
    "    cv2.imwrite(os.path.join(path,str(count)+'.jpg'), img)\n",
    "    sentence_labels[count]=tokens\n",
    "\n",
    "# Save labels to json, could have csv as an alternative in the future\n",
    "with open('sentence_labels.json', 'w') as f:\n",
    "    json.dump(sentence_labels, f)"
   ]
  },
  {
   "cell_type": "code",
   "execution_count": 35,
   "id": "c77236d5-9ed2-4e63-8479-b269e5f8f0e9",
   "metadata": {},
   "outputs": [
    {
     "name": "stdout",
     "output_type": "stream",
     "text": [
      "あ\n"
     ]
    }
   ],
   "source": [
    "# To get the corresponding Japanese character\n",
    "print(chr(int(0x3042)))"
   ]
  }
 ],
 "metadata": {
  "kernelspec": {
   "display_name": "Python 3 (ipykernel)",
   "language": "python",
   "name": "python3"
  },
  "language_info": {
   "codemirror_mode": {
    "name": "ipython",
    "version": 3
   },
   "file_extension": ".py",
   "mimetype": "text/x-python",
   "name": "python",
   "nbconvert_exporter": "python",
   "pygments_lexer": "ipython3",
   "version": "3.9.6"
  }
 },
 "nbformat": 4,
 "nbformat_minor": 5
}
