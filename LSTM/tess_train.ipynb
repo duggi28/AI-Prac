{
  "nbformat": 4,
  "nbformat_minor": 0,
  "metadata": {
    "colab": {
      "provenance": []
    },
    "kernelspec": {
      "name": "python3",
      "display_name": "Python 3"
    },
    "language_info": {
      "name": "python"
    }
  },
  "cells": [
    {
      "cell_type": "markdown",
      "metadata": {
        "id": "TiFG5vFZQDZl"
      },
      "source": [
        "Code adapted from Youtube user @aniquemaniac. The `.ipynb` is optimized on Google Colab. The original pipeline is used to train Tesseract 4.1 on customed English font family, not Japanese handwriting. Thus, I made several modifications to make the pipeline work for this purpose.\n",
        "\n",
        "Download these required files from github and upload to Google Drive\n",
        "\n",
        "**1. Tesseract 4.1**\n",
        "\n",
        "\n",
        "https://github.com/tesseract-ocr/tesseract/tree/4.1\n",
        "\n",
        "**2. Download jpn.traineddata**\n",
        "\n",
        "https://github.com/tesseract-ocr/tessdata_best\n",
        "\n",
        "After downloading it, put `jpn.traineddata` inside the downloaded tesseract folder `tesseract/tessdata`\n",
        "\n",
        "**3. Langdata lstm**\n",
        "\n",
        "https://github.com/tesseract-ocr/langdata_lstm\n",
        "\n",
        "Download only some important directory.\n",
        "So download this chrome extension extension. This will allow you to select and download specific directory and files. https://chrome.google.com/webstore/detail/gitzip-for-github/ffabmkklhbepgcgfonabamgnfafbdlkn\n",
        "\n",
        "\n",
        "Watch this video to locate where to put the files in the `langdata_lstm` folder: https://www.youtube.com/watch?v=V2chutR7RZo\n",
        "\n",
        "1. Specific language Code folder, `jpn`, `chi_sim`, `chi_tra`\n",
        "2. `Licence`\n",
        "3. `desired_bigrams.txt`\n",
        "4. `font_properties`\n",
        "5. `radical-stroke.txt`\n",
        "6. `forbidden_characters_default`\n",
        "7. `Katakana.unicharset`, `Katakana.xheights`, `Hiragana.unicharset`, `Hiragana.xheights`\n",
        "\n",
        "Folder Structure ▶\n",
        "\n",
        "    ------tesseract\n",
        "    |         |----tessdata\n",
        "    |                |---jpn.traineddata\n",
        "    |\n",
        "    ------langdata_lstm\n",
        "\n",
        "Finally, upload everything to Google Drive root folder.\n",
        "\n",
        "\n"
      ]
    },
    {
      "cell_type": "markdown",
      "metadata": {
        "id": "1j5KIFyiHABY"
      },
      "source": [
        "\n",
        "\n",
        "#1. Install Tesseract\n",
        "\n"
      ]
    },
    {
      "cell_type": "code",
      "metadata": {
        "id": "0zGWFQbcLXhc",
        "colab": {
          "base_uri": "https://localhost:8080/"
        },
        "outputId": "7d64932e-5307-4c40-c2bc-39c61ba151c5"
      },
      "source": [
        "!sudo apt install tesseract-ocr"
      ],
      "execution_count": null,
      "outputs": [
        {
          "output_type": "stream",
          "name": "stdout",
          "text": [
            "Reading package lists... Done\n",
            "Building dependency tree... Done\n",
            "Reading state information... Done\n",
            "The following additional packages will be installed:\n",
            "  tesseract-ocr-eng tesseract-ocr-osd\n",
            "The following NEW packages will be installed:\n",
            "  tesseract-ocr tesseract-ocr-eng tesseract-ocr-osd\n",
            "0 upgraded, 3 newly installed, 0 to remove and 45 not upgraded.\n",
            "Need to get 4,816 kB of archives.\n",
            "After this operation, 15.6 MB of additional disk space will be used.\n",
            "Get:1 http://archive.ubuntu.com/ubuntu jammy/universe amd64 tesseract-ocr-eng all 1:4.00~git30-7274cfa-1.1 [1,591 kB]\n",
            "Get:2 http://archive.ubuntu.com/ubuntu jammy/universe amd64 tesseract-ocr-osd all 1:4.00~git30-7274cfa-1.1 [2,990 kB]\n",
            "Get:3 http://archive.ubuntu.com/ubuntu jammy/universe amd64 tesseract-ocr amd64 4.1.1-2.1build1 [236 kB]\n",
            "Fetched 4,816 kB in 1s (5,097 kB/s)\n",
            "debconf: unable to initialize frontend: Dialog\n",
            "debconf: (No usable dialog-like program is installed, so the dialog based frontend cannot be used. at /usr/share/perl5/Debconf/FrontEnd/Dialog.pm line 78, <> line 3.)\n",
            "debconf: falling back to frontend: Readline\n",
            "debconf: unable to initialize frontend: Readline\n",
            "debconf: (This frontend requires a controlling tty.)\n",
            "debconf: falling back to frontend: Teletype\n",
            "dpkg-preconfigure: unable to re-open stdin: \n",
            "Selecting previously unselected package tesseract-ocr-eng.\n",
            "(Reading database ... 121920 files and directories currently installed.)\n",
            "Preparing to unpack .../tesseract-ocr-eng_1%3a4.00~git30-7274cfa-1.1_all.deb ...\n",
            "Unpacking tesseract-ocr-eng (1:4.00~git30-7274cfa-1.1) ...\n",
            "Selecting previously unselected package tesseract-ocr-osd.\n",
            "Preparing to unpack .../tesseract-ocr-osd_1%3a4.00~git30-7274cfa-1.1_all.deb ...\n",
            "Unpacking tesseract-ocr-osd (1:4.00~git30-7274cfa-1.1) ...\n",
            "Selecting previously unselected package tesseract-ocr.\n",
            "Preparing to unpack .../tesseract-ocr_4.1.1-2.1build1_amd64.deb ...\n",
            "Unpacking tesseract-ocr (4.1.1-2.1build1) ...\n",
            "Setting up tesseract-ocr-eng (1:4.00~git30-7274cfa-1.1) ...\n",
            "Setting up tesseract-ocr-osd (1:4.00~git30-7274cfa-1.1) ...\n",
            "Setting up tesseract-ocr (4.1.1-2.1build1) ...\n",
            "Processing triggers for man-db (2.10.2-1) ...\n"
          ]
        }
      ]
    },
    {
      "cell_type": "markdown",
      "metadata": {
        "id": "egfJBI0-HOd2"
      },
      "source": [
        "#2. Create Folders\n",
        "**train**   ▶    &nbsp;&nbsp;&nbsp;&nbsp; Data for training to be generated<br>\n",
        "**output**  ▶    &nbsp; Output of trained data\n"
      ]
    },
    {
      "cell_type": "code",
      "metadata": {
        "id": "mWmLuBbVNDpD"
      },
      "source": [
        "!mkdir output train"
      ],
      "execution_count": null,
      "outputs": []
    },
    {
      "cell_type": "markdown",
      "metadata": {
        "id": "B2WGcBOwJl0k"
      },
      "source": [
        "# 3. Add Google Drive"
      ]
    },
    {
      "cell_type": "code",
      "metadata": {
        "id": "G8w_sAtrpgVL",
        "colab": {
          "base_uri": "https://localhost:8080/"
        },
        "outputId": "29f3b665-c2cc-4a16-f0ab-302a880471a9"
      },
      "source": [
        "from google.colab import drive\n",
        "drive.mount('/content/drive')"
      ],
      "execution_count": null,
      "outputs": [
        {
          "output_type": "stream",
          "name": "stdout",
          "text": [
            "Mounted at /content/drive\n"
          ]
        }
      ]
    },
    {
      "cell_type": "markdown",
      "metadata": {
        "id": "1cZRk02wHf3F"
      },
      "source": [
        "#4. Grant Permission to Tesseract Folder\n"
      ]
    },
    {
      "cell_type": "code",
      "metadata": {
        "id": "LMMTbc-xsXzI"
      },
      "source": [
        "!chmod 755 -R /content/drive/MyDrive/tesseract/src/training/tesstrain.sh"
      ],
      "execution_count": null,
      "outputs": []
    },
    {
      "cell_type": "markdown",
      "source": [
        "# 5. Create `lstm.train` Files\n",
        "First generate `<index>.tif` and `<index>.box` files using the `.ipynb` notebook in our repo. You can modify the range to generate more `lstm.train` files."
      ],
      "metadata": {
        "id": "jaUgPpb5667a"
      }
    },
    {
      "cell_type": "code",
      "source": [
        "%%shell\n",
        "for i in {0..9}; do tesseract -l jpn /content/train/$i.tif /content/train/$i --psm 6  lstm.train; done\n",
        "#-l jpn"
      ],
      "metadata": {
        "colab": {
          "base_uri": "https://localhost:8080/"
        },
        "id": "bSXsP3K8Eu8W",
        "outputId": "8baab470-76ea-480d-cdd7-e655bf22e704"
      },
      "execution_count": null,
      "outputs": [
        {
          "output_type": "stream",
          "name": "stdout",
          "text": [
            "Error opening data file /usr/share/tesseract-ocr/4.00/tessdata/jpn_vert.traineddata\n",
            "Please make sure the TESSDATA_PREFIX environment variable is set to your \"tessdata\" directory.\n",
            "Failed loading language 'jpn_vert'\n",
            "Tesseract Open Source OCR Engine v4.1.1 with Leptonica\n",
            "Warning: Invalid resolution 0 dpi. Using 70 instead.\n",
            "Error opening data file /usr/share/tesseract-ocr/4.00/tessdata/jpn_vert.traineddata\n",
            "Please make sure the TESSDATA_PREFIX environment variable is set to your \"tessdata\" directory.\n",
            "Failed loading language 'jpn_vert'\n",
            "Tesseract Open Source OCR Engine v4.1.1 with Leptonica\n",
            "Warning: Invalid resolution 0 dpi. Using 70 instead.\n",
            "Error opening data file /usr/share/tesseract-ocr/4.00/tessdata/jpn_vert.traineddata\n",
            "Please make sure the TESSDATA_PREFIX environment variable is set to your \"tessdata\" directory.\n",
            "Failed loading language 'jpn_vert'\n",
            "Tesseract Open Source OCR Engine v4.1.1 with Leptonica\n",
            "Warning: Invalid resolution 0 dpi. Using 70 instead.\n",
            "Error opening data file /usr/share/tesseract-ocr/4.00/tessdata/jpn_vert.traineddata\n",
            "Please make sure the TESSDATA_PREFIX environment variable is set to your \"tessdata\" directory.\n",
            "Failed loading language 'jpn_vert'\n",
            "Tesseract Open Source OCR Engine v4.1.1 with Leptonica\n",
            "Warning: Invalid resolution 0 dpi. Using 70 instead.\n",
            "Error opening data file /usr/share/tesseract-ocr/4.00/tessdata/jpn_vert.traineddata\n",
            "Please make sure the TESSDATA_PREFIX environment variable is set to your \"tessdata\" directory.\n",
            "Failed loading language 'jpn_vert'\n",
            "Tesseract Open Source OCR Engine v4.1.1 with Leptonica\n",
            "Warning: Invalid resolution 0 dpi. Using 70 instead.\n",
            "Error opening data file /usr/share/tesseract-ocr/4.00/tessdata/jpn_vert.traineddata\n",
            "Please make sure the TESSDATA_PREFIX environment variable is set to your \"tessdata\" directory.\n",
            "Failed loading language 'jpn_vert'\n",
            "Tesseract Open Source OCR Engine v4.1.1 with Leptonica\n",
            "Warning: Invalid resolution 0 dpi. Using 70 instead.\n",
            "Error opening data file /usr/share/tesseract-ocr/4.00/tessdata/jpn_vert.traineddata\n",
            "Please make sure the TESSDATA_PREFIX environment variable is set to your \"tessdata\" directory.\n",
            "Failed loading language 'jpn_vert'\n",
            "Tesseract Open Source OCR Engine v4.1.1 with Leptonica\n",
            "Warning: Invalid resolution 0 dpi. Using 70 instead.\n",
            "Error opening data file /usr/share/tesseract-ocr/4.00/tessdata/jpn_vert.traineddata\n",
            "Please make sure the TESSDATA_PREFIX environment variable is set to your \"tessdata\" directory.\n",
            "Failed loading language 'jpn_vert'\n",
            "Tesseract Open Source OCR Engine v4.1.1 with Leptonica\n",
            "Warning: Invalid resolution 0 dpi. Using 70 instead.\n",
            "Error opening data file /usr/share/tesseract-ocr/4.00/tessdata/jpn_vert.traineddata\n",
            "Please make sure the TESSDATA_PREFIX environment variable is set to your \"tessdata\" directory.\n",
            "Failed loading language 'jpn_vert'\n",
            "Tesseract Open Source OCR Engine v4.1.1 with Leptonica\n",
            "Warning: Invalid resolution 0 dpi. Using 70 instead.\n",
            "Error opening data file /usr/share/tesseract-ocr/4.00/tessdata/jpn_vert.traineddata\n",
            "Please make sure the TESSDATA_PREFIX environment variable is set to your \"tessdata\" directory.\n",
            "Failed loading language 'jpn_vert'\n",
            "Tesseract Open Source OCR Engine v4.1.1 with Leptonica\n",
            "Warning: Invalid resolution 0 dpi. Using 70 instead.\n"
          ]
        },
        {
          "output_type": "execute_result",
          "data": {
            "text/plain": []
          },
          "metadata": {},
          "execution_count": 25
        }
      ]
    },
    {
      "cell_type": "markdown",
      "source": [
        "Create `jpn.training_files.txt`\n",
        "For the content, enter the `.lstmf` files you want to train upon. Put the txt file under `/train`.\n",
        "```\n",
        "train/0.lstmf\n",
        "train/1.lstmf\n",
        "train/2.lstmf\n",
        "```"
      ],
      "metadata": {
        "id": "YITGyxcyAEDA"
      }
    },
    {
      "cell_type": "markdown",
      "metadata": {
        "id": "AlDBON6ulWkC"
      },
      "source": [
        "#6. Extract `jpn.lstm` from `jpn.traineddata`\n",
        "\n",
        "`jpn.lstm` will be generated from `jpn.taineddata`**bold text**, which will we use as the pretrained model."
      ]
    },
    {
      "cell_type": "code",
      "metadata": {
        "id": "ackgGjeexk0o",
        "colab": {
          "base_uri": "https://localhost:8080/"
        },
        "outputId": "27e1c58c-4725-4ade-e592-64414ffaaa0d"
      },
      "source": [
        "!combine_tessdata -e /content/drive/MyDrive/tesseract/tessdata/jpn.traineddata jpn.lstm"
      ],
      "execution_count": null,
      "outputs": [
        {
          "output_type": "stream",
          "name": "stdout",
          "text": [
            "Extracting tessdata components from /content/drive/MyDrive/tesseract/tessdata/jpn.traineddata\n",
            "Wrote jpn.lstm\n",
            "Version string:4.00.00alpha:jpn:synth20170629:[1,48,0,1Ct3,3,16Mp3,3Lfys64Lfx96Lrx96Lfx512O1c1]\n",
            "0:config:size=2563, offset=192\n",
            "17:lstm:size=12936715, offset=2755\n",
            "18:lstm-punc-dawg:size=2602, offset=12939470\n",
            "19:lstm-word-dawg:size=1167978, offset=12942072\n",
            "20:lstm-number-dawg:size=50, offset=14110050\n",
            "21:lstm-unicharset:size=173324, offset=14110100\n",
            "22:lstm-recoder:size=46601, offset=14283424\n",
            "23:version:size=80, offset=14330025\n"
          ]
        }
      ]
    },
    {
      "cell_type": "markdown",
      "metadata": {
        "id": "Beyzv0w4mdeA"
      },
      "source": [
        "#7. Train the LSTM Model\n",
        "\n",
        "Trained data will be inside `content/output` folder.\n",
        "\n",
        "Change Max Iteration as per your need. Increase this value to get less error."
      ]
    },
    {
      "cell_type": "code",
      "metadata": {
        "id": "ZddishLny8Qt",
        "colab": {
          "base_uri": "https://localhost:8080/"
        },
        "outputId": "77b46035-b4ef-4615-993d-47fae4ab2a8b"
      },
      "source": [
        "%%shell\n",
        "\n",
        "rm -rf output/*\n",
        "OMP_THREAD_LIMIT=16 lstmtraining \\\n",
        "\t--continue_from jpn.lstm \\\n",
        "\t--model_output output/handwriting \\\n",
        "\t--traineddata /content/drive/MyDrive/tesseract/tessdata/jpn.traineddata \\\n",
        "\t--train_listfile train/jpn.training_files.txt \\\n",
        "\t--max_iterations 3000"
      ],
      "execution_count": null,
      "outputs": [
        {
          "output_type": "stream",
          "name": "stdout",
          "text": [
            "Loaded file jpn.lstm, unpacking...\n",
            "Warning: LSTMTrainer deserialized an LSTMRecognizer!\n",
            "Continuing from jpn.lstm\n",
            "Loaded 30/30 lines (1-30) of document train/0.lstmf\n",
            "Loaded 30/30 lines (1-30) of document train/5.lstmf\n",
            "Loaded 30/30 lines (1-30) of document train/1.lstmf\n",
            "Loaded 30/30 lines (1-30) of document train/2.lstmf\n",
            "Loaded 30/30 lines (1-30) of document train/4.lstmf\n",
            "Loaded 30/30 lines (1-30) of document train/3.lstmf\n",
            "Loaded 30/30 lines (1-30) of document train/7.lstmf\n",
            "Loaded 30/30 lines (1-30) of document train/8.lstmf\n",
            "Loaded 30/30 lines (1-30) of document train/6.lstmf\n",
            "Loaded 30/30 lines (1-30) of document train/9.lstmf\n",
            "2 Percent improvement time=100, best error was 100 @ 0\n",
            "At iteration 100/100/100, Mean rms=1.597%, delta=14.413%, char train=60.1%, word train=100%, skip ratio=0%,  New best char error = 60.1 wrote best model:output/font_name60.1_100.checkpoint wrote checkpoint.\n",
            "\n",
            "2 Percent improvement time=100, best error was 60.1 @ 100\n",
            "At iteration 200/200/200, Mean rms=1.469%, delta=12.3%, char train=51.167%, word train=100%, skip ratio=0%,  New best char error = 51.167 wrote best model:output/font_name51.167_200.checkpoint wrote checkpoint.\n",
            "\n",
            "2 Percent improvement time=99, best error was 51.167 @ 200\n",
            "At iteration 299/300/300, Mean rms=1.374%, delta=10.799%, char train=44.944%, word train=100%, skip ratio=0%,  New best char error = 44.944 wrote best model:output/font_name44.944_299.checkpoint wrote checkpoint.\n",
            "\n",
            "2 Percent improvement time=100, best error was 44.944 @ 299\n",
            "At iteration 399/400/400, Mean rms=1.313%, delta=9.916%, char train=41.358%, word train=100%, skip ratio=0%,  New best char error = 41.358 wrote best model:output/font_name41.358_399.checkpoint wrote checkpoint.\n",
            "\n",
            "2 Percent improvement time=100, best error was 41.358 @ 399\n",
            "At iteration 499/500/500, Mean rms=1.267%, delta=9.252%, char train=38.367%, word train=100%, skip ratio=0%,  New best char error = 38.367 wrote best model:output/font_name38.367_499.checkpoint wrote checkpoint.\n",
            "\n",
            "2 Percent improvement time=99, best error was 38.367 @ 499\n",
            "At iteration 598/600/600, Mean rms=1.222%, delta=8.64%, char train=35.767%, word train=99.833%, skip ratio=0%,  New best char error = 35.767 wrote best model:output/font_name35.767_598.checkpoint wrote checkpoint.\n",
            "\n",
            "2 Percent improvement time=98, best error was 35.767 @ 598\n",
            "At iteration 696/700/700, Mean rms=1.182%, delta=8.143%, char train=33.695%, word train=99.571%, skip ratio=0%,  New best char error = 33.695 wrote best model:output/font_name33.695_696.checkpoint wrote checkpoint.\n",
            "\n",
            "2 Percent improvement time=195, best error was 35.767 @ 598\n",
            "At iteration 793/800/800, Mean rms=1.153%, delta=7.779%, char train=32.121%, word train=99.375%, skip ratio=0%,  New best char error = 32.121 wrote best model:output/font_name32.121_793.checkpoint wrote checkpoint.\n",
            "\n",
            "2 Percent improvement time=195, best error was 33.695 @ 696\n",
            "At iteration 891/900/900, Mean rms=1.121%, delta=7.39%, char train=30.481%, word train=99.222%, skip ratio=0%,  New best char error = 30.481 wrote best model:output/font_name30.481_891.checkpoint wrote checkpoint.\n",
            "\n",
            "2 Percent improvement time=193, best error was 32.121 @ 793\n",
            "At iteration 986/1000/1000, Mean rms=1.091%, delta=7.051%, char train=29.06%, word train=98.9%, skip ratio=0%,  New best char error = 29.06 wrote best model:output/font_name29.06_986.checkpoint wrote checkpoint.\n",
            "\n",
            "2 Percent improvement time=93, best error was 29.06 @ 986\n",
            "At iteration 1079/1100/1100, Mean rms=1.016%, delta=6.026%, char train=24.753%, word train=98.4%, skip ratio=0%,  New best char error = 24.753 wrote best model:output/font_name24.753_1079.checkpoint wrote checkpoint.\n",
            "\n",
            "2 Percent improvement time=93, best error was 24.753 @ 1079\n",
            "At iteration 1172/1200/1200, Mean rms=0.958%, delta=5.346%, char train=21.933%, word train=97.8%, skip ratio=0%,  New best char error = 21.933 wrote best model:output/font_name21.933_1172.checkpoint wrote checkpoint.\n",
            "\n",
            "2 Percent improvement time=182, best error was 24.753 @ 1079\n",
            "At iteration 1261/1300/1300, Mean rms=0.91%, delta=4.862%, char train=19.94%, word train=96.6%, skip ratio=0%,  New best char error = 19.94 wrote best model:output/font_name19.94_1261.checkpoint wrote checkpoint.\n",
            "\n",
            "2 Percent improvement time=181, best error was 21.933 @ 1172\n",
            "At iteration 1353/1400/1400, Mean rms=0.872%, delta=4.47%, char train=18.207%, word train=95.7%, skip ratio=0%,  New best char error = 18.207 wrote best model:output/font_name18.207_1353.checkpoint wrote checkpoint.\n",
            "\n",
            "2 Percent improvement time=181, best error was 19.94 @ 1261\n",
            "At iteration 1442/1500/1500, Mean rms=0.832%, delta=4.084%, char train=16.713%, word train=94.8%, skip ratio=0%,  New best char error = 16.713 wrote best model:output/font_name16.713_1442.checkpoint wrote checkpoint.\n",
            "\n",
            "2 Percent improvement time=173, best error was 18.207 @ 1353\n",
            "At iteration 1526/1600/1600, Mean rms=0.794%, delta=3.759%, char train=15.433%, word train=93.5%, skip ratio=0%,  New best char error = 15.433 wrote best model:output/font_name15.433_1526.checkpoint wrote checkpoint.\n",
            "\n",
            "2 Percent improvement time=165, best error was 16.713 @ 1442\n",
            "At iteration 1607/1700/1700, Mean rms=0.766%, delta=3.518%, char train=14.35%, word train=92.3%, skip ratio=0%,  New best char error = 14.35 wrote best model:output/font_name14.35_1607.checkpoint wrote checkpoint.\n",
            "\n",
            "2 Percent improvement time=163, best error was 15.433 @ 1526\n",
            "At iteration 1689/1800/1800, Mean rms=0.731%, delta=3.223%, char train=13.15%, word train=90.7%, skip ratio=0%,  New best char error = 13.15 wrote best model:output/font_name13.15_1689.checkpoint wrote checkpoint.\n",
            "\n",
            "2 Percent improvement time=155, best error was 14.35 @ 1607\n",
            "At iteration 1762/1900/1900, Mean rms=0.698%, delta=2.963%, char train=12.203%, word train=88.6%, skip ratio=0%,  New best char error = 12.203 wrote best model:output/font_name12.203_1762.checkpoint wrote checkpoint.\n",
            "\n",
            "2 Percent improvement time=233, best error was 14.35 @ 1607\n",
            "At iteration 1840/2000/2000, Mean rms=0.674%, delta=2.777%, char train=11.44%, word train=86.8%, skip ratio=0%,  New best char error = 11.44 wrote best model:output/font_name11.44_1840.checkpoint wrote checkpoint.\n",
            "\n",
            "2 Percent improvement time=228, best error was 13.15 @ 1689\n",
            "At iteration 1917/2100/2100, Mean rms=0.643%, delta=2.54%, char train=10.433%, word train=84.9%, skip ratio=0%,  New best char error = 10.433 wrote best model:output/font_name10.433_1917.checkpoint wrote checkpoint.\n",
            "\n",
            "2 Percent improvement time=221, best error was 12.203 @ 1762\n",
            "At iteration 1983/2200/2200, Mean rms=0.612%, delta=2.33%, char train=9.613%, word train=82.1%, skip ratio=0%,  New best char error = 9.613 Transitioned to stage 1 wrote best model:output/font_name9.613_1983.checkpoint wrote checkpoint.\n",
            "\n",
            "2 Percent improvement time=210, best error was 11.44 @ 1840\n",
            "At iteration 2050/2300/2300, Mean rms=0.592%, delta=2.201%, char train=9.05%, word train=80.4%, skip ratio=0%,  New best char error = 9.05 wrote best model:output/font_name9.05_2050.checkpoint wrote checkpoint.\n",
            "\n",
            "2 Percent improvement time=199, best error was 10.433 @ 1917\n",
            "At iteration 2116/2400/2400, Mean rms=0.564%, delta=2.005%, char train=8.28%, word train=77.9%, skip ratio=0%,  New best char error = 8.28 wrote best model:output/font_name8.28_2116.checkpoint wrote checkpoint.\n",
            "\n",
            "2 Percent improvement time=192, best error was 9.613 @ 1983\n",
            "At iteration 2175/2500/2500, Mean rms=0.535%, delta=1.834%, char train=7.603%, word train=74.6%, skip ratio=0%,  New best char error = 7.603 wrote best model:output/font_name7.603_2175.checkpoint wrote checkpoint.\n",
            "\n",
            "2 Percent improvement time=250, best error was 9.613 @ 1983\n",
            "At iteration 2233/2600/2600, Mean rms=0.517%, delta=1.73%, char train=7.113%, word train=71.9%, skip ratio=0%,  New best char error = 7.113 wrote best model:output/font_name7.113_2233.checkpoint wrote checkpoint.\n",
            "\n",
            "2 Percent improvement time=236, best error was 9.05 @ 2050\n",
            "At iteration 2286/2700/2700, Mean rms=0.491%, delta=1.56%, char train=6.507%, word train=69.3%, skip ratio=0%,  New best char error = 6.507 wrote best model:output/font_name6.507_2286.checkpoint wrote checkpoint.\n",
            "\n",
            "2 Percent improvement time=210, best error was 8.28 @ 2116\n",
            "At iteration 2326/2800/2800, Mean rms=0.463%, delta=1.404%, char train=5.957%, word train=65.7%, skip ratio=0%,  New best char error = 5.957 wrote best model:output/font_name5.957_2326.checkpoint wrote checkpoint.\n",
            "\n",
            "2 Percent improvement time=262, best error was 8.28 @ 2116\n",
            "At iteration 2378/2900/2900, Mean rms=0.448%, delta=1.334%, char train=5.607%, word train=63.8%, skip ratio=0%,  New best char error = 5.607 wrote best model:output/font_name5.607_2378.checkpoint wrote checkpoint.\n",
            "\n",
            "2 Percent improvement time=187, best error was 7.113 @ 2233\n",
            "At iteration 2420/3000/3000, Mean rms=0.423%, delta=1.197%, char train=5.077%, word train=60.6%, skip ratio=0%,  New best char error = 5.077 wrote best model:output/font_name5.077_2420.checkpoint wrote checkpoint.\n",
            "\n",
            "2 Percent improvement time=222, best error was 7.113 @ 2233\n",
            "At iteration 2455/3100/3100, Mean rms=0.398%, delta=1.075%, char train=4.643%, word train=56.3%, skip ratio=0%,  New best char error = 4.643 wrote best model:output/font_name4.643_2455.checkpoint wrote checkpoint.\n",
            "\n",
            "2 Percent improvement time=213, best error was 6.507 @ 2286\n",
            "At iteration 2499/3200/3200, Mean rms=0.384%, delta=1.016%, char train=4.373%, word train=54.3%, skip ratio=0%,  New best char error = 4.373 wrote best model:output/font_name4.373_2499.checkpoint wrote checkpoint.\n",
            "\n",
            "2 Percent improvement time=204, best error was 5.957 @ 2326\n",
            "At iteration 2530/3300/3300, Mean rms=0.361%, delta=0.899%, char train=3.91%, word train=50.9%, skip ratio=0%,  New best char error = 3.91 wrote best model:output/font_name3.91_2530.checkpoint wrote checkpoint.\n",
            "\n",
            "2 Percent improvement time=176, best error was 5.607 @ 2378\n",
            "At iteration 2554/3400/3400, Mean rms=0.338%, delta=0.802%, char train=3.547%, word train=46.9%, skip ratio=0%,  New best char error = 3.547 wrote best model:output/font_name3.547_2554.checkpoint wrote checkpoint.\n",
            "\n",
            "2 Percent improvement time=209, best error was 5.607 @ 2378\n",
            "At iteration 2587/3500/3500, Mean rms=0.324%, delta=0.754%, char train=3.283%, word train=44.4%, skip ratio=0%,  New best char error = 3.283 wrote best model:output/font_name3.283_2587.checkpoint wrote checkpoint.\n",
            "\n",
            "2 Percent improvement time=196, best error was 5.077 @ 2420\n",
            "At iteration 2616/3600/3600, Mean rms=0.304%, delta=0.661%, char train=2.953%, word train=41.4%, skip ratio=0%,  New best char error = 2.953 wrote best model:output/font_name2.953_2616.checkpoint wrote checkpoint.\n",
            "\n",
            "2 Percent improvement time=178, best error was 4.643 @ 2455\n",
            "At iteration 2633/3700/3700, Mean rms=0.283%, delta=0.583%, char train=2.643%, word train=37.3%, skip ratio=0%,  New best char error = 2.643 wrote best model:output/font_name2.643_2633.checkpoint wrote checkpoint.\n",
            "\n",
            "2 Percent improvement time=197, best error was 4.643 @ 2455\n",
            "At iteration 2652/3800/3800, Mean rms=0.269%, delta=0.534%, char train=2.403%, word train=34.8%, skip ratio=0%,  New best char error = 2.403 wrote best model:output/font_name2.403_2652.checkpoint wrote checkpoint.\n",
            "\n",
            "2 Percent improvement time=177, best error was 4.373 @ 2499\n",
            "At iteration 2676/3900/3900, Mean rms=0.251%, delta=0.464%, char train=2.097%, word train=31.4%, skip ratio=0%,  New best char error = 2.097 wrote best model:output/font_name2.097_2676.checkpoint wrote checkpoint.\n",
            "\n",
            "2 Percent improvement time=161, best error was 3.91 @ 2530\n",
            "At iteration 2691/4000/4000, Mean rms=0.233%, delta=0.405%, char train=1.843%, word train=28.2%, skip ratio=0%,  New best char error = 1.843 wrote best model:output/font_name1.843_2691.checkpoint wrote checkpoint.\n",
            "\n",
            "2 Percent improvement time=174, best error was 3.91 @ 2530\n",
            "At iteration 2704/4100/4100, Mean rms=0.221%, delta=0.363%, char train=1.657%, word train=26.3%, skip ratio=0%,  New best char error = 1.657 wrote best model:output/font_name1.657_2704.checkpoint wrote checkpoint.\n",
            "\n",
            "2 Percent improvement time=164, best error was 3.547 @ 2554\n",
            "At iteration 2718/4200/4200, Mean rms=0.205%, delta=0.314%, char train=1.437%, word train=23.2%, skip ratio=0%,  New best char error = 1.437 wrote best model:output/font_name1.437_2718.checkpoint wrote checkpoint.\n",
            "\n",
            "2 Percent improvement time=139, best error was 3.283 @ 2587\n",
            "At iteration 2726/4300/4300, Mean rms=0.191%, delta=0.276%, char train=1.27%, word train=20.4%, skip ratio=0%,  New best char error = 1.27 wrote best model:output/font_name1.27_2726.checkpoint wrote checkpoint.\n",
            "\n",
            "2 Percent improvement time=147, best error was 3.283 @ 2587\n",
            "At iteration 2734/4400/4400, Mean rms=0.18%, delta=0.245%, char train=1.123%, word train=18.6%, skip ratio=0%,  New best char error = 1.123 wrote best model:output/font_name1.123_2734.checkpoint wrote checkpoint.\n",
            "\n",
            "2 Percent improvement time=158, best error was 3.283 @ 2587\n",
            "At iteration 2745/4500/4500, Mean rms=0.167%, delta=0.204%, char train=0.977%, word train=16.3%, skip ratio=0%,  New best char error = 0.977 wrote best model:output/font_name0.977_2745.checkpoint wrote checkpoint.\n",
            "\n",
            "2 Percent improvement time=137, best error was 2.953 @ 2616\n",
            "At iteration 2753/4600/4600, Mean rms=0.155%, delta=0.177%, char train=0.85%, word train=14.3%, skip ratio=0%,  New best char error = 0.85 wrote best model:output/font_name0.85_2753.checkpoint wrote checkpoint.\n",
            "\n",
            "2 Percent improvement time=143, best error was 2.953 @ 2616\n",
            "At iteration 2759/4700/4700, Mean rms=0.147%, delta=0.158%, char train=0.753%, word train=13%, skip ratio=0%,  New best char error = 0.753 wrote best model:output/font_name0.753_2759.checkpoint wrote checkpoint.\n",
            "\n",
            "2 Percent improvement time=151, best error was 2.953 @ 2616\n",
            "At iteration 2767/4800/4800, Mean rms=0.139%, delta=0.143%, char train=0.667%, word train=11.7%, skip ratio=0%,  New best char error = 0.667 wrote best model:output/font_name0.667_2767.checkpoint wrote checkpoint.\n",
            "\n",
            "2 Percent improvement time=140, best error was 2.643 @ 2633\n",
            "At iteration 2773/4900/4900, Mean rms=0.129%, delta=0.123%, char train=0.577%, word train=10%, skip ratio=0%,  New best char error = 0.577 wrote best model:output/font_name0.577_2773.checkpoint wrote checkpoint.\n",
            "\n",
            "2 Percent improvement time=143, best error was 2.643 @ 2633\n",
            "At iteration 2776/5000/5000, Mean rms=0.123%, delta=0.109%, char train=0.513%, word train=8.9%, skip ratio=0%,  New best char error = 0.513 wrote best model:output/font_name0.513_2776.checkpoint wrote checkpoint.\n",
            "\n",
            "Finished! Error rate = 0.513\n"
          ]
        },
        {
          "output_type": "execute_result",
          "data": {
            "text/plain": []
          },
          "metadata": {},
          "execution_count": 29
        }
      ]
    },
    {
      "cell_type": "markdown",
      "metadata": {
        "id": "J_gREJArnCl2"
      },
      "source": [
        "#8. Get the Trained Model\n",
        "\n",
        "This command will create trained data from `fontname.checkpoint`.\n",
        "This will be inside `content/output` folder."
      ]
    },
    {
      "cell_type": "code",
      "metadata": {
        "id": "1wPmBN9IM7Fx",
        "colab": {
          "base_uri": "https://localhost:8080/"
        },
        "outputId": "db7c9eac-f08c-4211-b46e-6f66a9c39b8c"
      },
      "source": [
        "%%shell\n",
        "\n",
        "lstmtraining --stop_training \\\n",
        "\t--continue_from output/handwriting_checkpoint \\\n",
        "\t--traineddata /content/drive/MyDrive/tesseract/tessdata/jpn.traineddata \\\n",
        "\t--model_output output/handwriting.traineddata"
      ],
      "execution_count": null,
      "outputs": [
        {
          "output_type": "stream",
          "name": "stdout",
          "text": [
            "Loaded file output/font_name_checkpoint, unpacking...\n"
          ]
        },
        {
          "output_type": "execute_result",
          "data": {
            "text/plain": []
          },
          "metadata": {},
          "execution_count": 30
        }
      ]
    },
    {
      "cell_type": "markdown",
      "source": [
        "#9. Model Inference\n",
        "\n",
        "Download and paste the `handwriting.traineddata` inside this folder on a linux machine:\n",
        "\n",
        "/usr/share/tesseract-ocr/4.00/tessdata\n",
        "\n",
        "You can put your `.jpg` image anywhere in the colab. Modify the following code to generate the prediction `.txt`.\n",
        "\n",
        "For different `psm` flag options, see: https://pyimagesearch.com/2021/11/15/tesseract-page-segmentation-modes-psms-explained-how-to-improve-your-ocr-accuracy/"
      ],
      "metadata": {
        "id": "7X51C1W-_kdJ"
      }
    },
    {
      "cell_type": "code",
      "source": [
        "!tesseract /content/test/test.jpg /content/test/predict1 -l handwriting --psm 6"
      ],
      "metadata": {
        "colab": {
          "base_uri": "https://localhost:8080/"
        },
        "id": "5P76ti9G0RJ_",
        "outputId": "153dc83a-ed89-4244-d4d0-ea330982e64c"
      },
      "execution_count": null,
      "outputs": [
        {
          "output_type": "stream",
          "name": "stdout",
          "text": [
            "Tesseract Open Source OCR Engine v4.1.1 with Leptonica\n"
          ]
        }
      ]
    }
  ]
}