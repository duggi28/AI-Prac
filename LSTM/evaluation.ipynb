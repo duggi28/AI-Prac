{
 "cells": [
  {
   "cell_type": "code",
   "execution_count": 86,
   "id": "22136c0a-2afb-4f93-bf74-4c21bce43624",
   "metadata": {},
   "outputs": [],
   "source": [
    "file = open(\"test.txt\", \"r\")\n",
    "x = file.read()\n",
    "file.close()    \n",
    "gt = x.split(\"\\n\")"
   ]
  },
  {
   "cell_type": "code",
   "execution_count": 87,
   "id": "8a1b000d-bc83-4267-99d6-a7bb87eaa149",
   "metadata": {},
   "outputs": [
    {
     "name": "stdout",
     "output_type": "stream",
     "text": [
      "30\n"
     ]
    }
   ],
   "source": [
    "#first metric\n",
    "file = open(\"lstm/jpn1.txt\", \"r\")\n",
    "s = file.read()\n",
    "file.close()\n",
    "s = s.split(\"\\n\")\n",
    "predict=[]\n",
    "for line in s:\n",
    "    if len(line)>=10:\n",
    "        line=line.replace(\" \",\"\")\n",
    "        predict.append(line)\n",
    "print(len(predict))\n",
    "assert(len(predict)==len(gt))"
   ]
  },
  {
   "cell_type": "code",
   "execution_count": 88,
   "id": "08d08953-594b-4c3b-bdc6-cf01db53d9d3",
   "metadata": {},
   "outputs": [
    {
     "name": "stdout",
     "output_type": "stream",
     "text": [
      "0.57\n"
     ]
    }
   ],
   "source": [
    "def edit_distance(str1, str2):  \n",
    "    m, n = len(str1), len(str2)  \n",
    "    dp = [[0] * (n + 1) for _ in range(m + 1)]  \n",
    "    for i in range(m + 1):  \n",
    "        for j in range(n + 1):  \n",
    "            if i == 0:  \n",
    "                dp[i][j] = j  \n",
    "            elif j == 0:  \n",
    "                dp[i][j] = i  \n",
    "            elif str1[i - 1] == str2[j - 1]:  \n",
    "                dp[i][j] = dp[i - 1][j - 1]  \n",
    "            else:  \n",
    "                dp[i][j] = 1 + min(dp[i - 1][j], dp[i][j - 1], dp[i - 1][j - 1])  \n",
    "    return dp[m][n]\n",
    "\n",
    "\n",
    "#compute Word Error Rate: edit distance/groundtruth number of words\n",
    "err = 0\n",
    "for i in range(len(gt)):\n",
    "    inc=edit_distance(gt[i],predict[i])\n",
    "    err+=inc\n",
    "WER=err/(len(gt)*len(gt[0]))\n",
    "print(WER)\n"
   ]
  },
  {
   "cell_type": "code",
   "execution_count": 91,
   "id": "06622926-eb1f-4ab7-9eb0-94231453248b",
   "metadata": {},
   "outputs": [
    {
     "data": {
      "text/plain": [
       "(466, 900)"
      ]
     },
     "execution_count": 91,
     "metadata": {},
     "output_type": "execute_result"
    }
   ],
   "source": [
    "#second metric\n",
    "file = open(\"lstm/jpn2.txt\", \"r\")\n",
    "predict = file.read()\n",
    "file.close()\n",
    "predict=predict.replace(\" \",\"\")\n",
    "\n",
    "file = open(\"test.txt\", \"r\")\n",
    "x = file.read()\n",
    "file.close()\n",
    "gt=x.replace(\"\\n\",\"\")\n",
    "len(predict),len(gt)"
   ]
  },
  {
   "cell_type": "code",
   "execution_count": 90,
   "id": "9b096149-d019-4017-8cad-c2a3783ca8a0",
   "metadata": {},
   "outputs": [
    {
     "data": {
      "text/plain": [
       "0.9155555555555556"
      ]
     },
     "execution_count": 90,
     "metadata": {},
     "output_type": "execute_result"
    }
   ],
   "source": [
    "edit_distance(gt,predict)/len(gt)"
   ]
  },
  {
   "cell_type": "code",
   "execution_count": null,
   "id": "7d9eb0ef-ecb4-4f40-bb5b-a86c9b7578be",
   "metadata": {},
   "outputs": [],
   "source": []
  }
 ],
 "metadata": {
  "kernelspec": {
   "display_name": "Python 3 (ipykernel)",
   "language": "python",
   "name": "python3"
  },
  "language_info": {
   "codemirror_mode": {
    "name": "ipython",
    "version": 3
   },
   "file_extension": ".py",
   "mimetype": "text/x-python",
   "name": "python",
   "nbconvert_exporter": "python",
   "pygments_lexer": "ipython3",
   "version": "3.9.6"
  }
 },
 "nbformat": 4,
 "nbformat_minor": 5
}
