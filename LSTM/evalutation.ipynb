{
 "cells": [
  {
   "cell_type": "code",
   "execution_count": 68,
   "id": "22136c0a-2afb-4f93-bf74-4c21bce43624",
   "metadata": {},
   "outputs": [],
   "source": [
    "file = open(\"train/test.txt\", \"r\")\n",
    "x = file.read()\n",
    "file.close()\n",
    "# gt =[]\n",
    "# line=\"\"\n",
    "# count=0\n",
    "# for c in x:\n",
    "#     count+=1\n",
    "#     line+=c\n",
    "#     if count%30==0:\n",
    "#         gt.append(line)\n",
    "#         line=\"\"     \n",
    "gt = x.split(\"\\n\")"
   ]
  },
  {
   "cell_type": "code",
   "execution_count": 71,
   "id": "8a1b000d-bc83-4267-99d6-a7bb87eaa149",
   "metadata": {},
   "outputs": [],
   "source": [
    "file = open(\"train/predict.txt\", \"r\")\n",
    "s = file.read()\n",
    "file.close()\n",
    "s = s.split(\"\\n\")\n",
    "predict=[]\n",
    "for line in s:\n",
    "    if len(line)>=10:\n",
    "        line=line.replace(\" \",\"\")\n",
    "        predict.append(line)\n",
    "assert(len(predict)==len(gt))"
   ]
  },
  {
   "cell_type": "code",
   "execution_count": 72,
   "id": "d2988dba-ca3a-4b7e-8abb-be097ee16ba7",
   "metadata": {},
   "outputs": [
    {
     "name": "stdout",
     "output_type": "stream",
     "text": [
      "ころこあしつうおへよげどすてぼづるぞごじりほずれさぱおぼでせ\n",
      "ころこあしじしつうおへとよげどすてぽづるぞごじりほずれさぱおぼでちせ\n"
     ]
    }
   ],
   "source": [
    "print(gt[0])\n",
    "print(predict[0])"
   ]
  },
  {
   "cell_type": "code",
   "execution_count": 73,
   "id": "08d08953-594b-4c3b-bdc6-cf01db53d9d3",
   "metadata": {},
   "outputs": [
    {
     "name": "stdout",
     "output_type": "stream",
     "text": [
      "0.13333333333333333\n"
     ]
    }
   ],
   "source": [
    "def edit_distance(str1, str2):  \n",
    "    m, n = len(str1), len(str2)  \n",
    "    dp = [[0] * (n + 1) for _ in range(m + 1)]  \n",
    "    for i in range(m + 1):  \n",
    "        for j in range(n + 1):  \n",
    "            if i == 0:  \n",
    "                dp[i][j] = j  \n",
    "            elif j == 0:  \n",
    "                dp[i][j] = i  \n",
    "            elif str1[i - 1] == str2[j - 1]:  \n",
    "                dp[i][j] = dp[i - 1][j - 1]  \n",
    "            else:  \n",
    "                dp[i][j] = 1 + min(dp[i - 1][j], dp[i][j - 1], dp[i - 1][j - 1])  \n",
    "    return dp[m][n]\n",
    "\n",
    "\n",
    "#compute Word Error Rate: edit distance/groundtruth number of words\n",
    "err = 0\n",
    "for i in range(len(gt)):\n",
    "    inc=edit_distance(gt[i],predict[i])\n",
    "    err+=inc\n",
    "WER=err/(len(gt)*len(gt[0]))\n",
    "print(WER)\n"
   ]
  },
  {
   "cell_type": "code",
   "execution_count": null,
   "id": "9b096149-d019-4017-8cad-c2a3783ca8a0",
   "metadata": {},
   "outputs": [],
   "source": []
  }
 ],
 "metadata": {
  "kernelspec": {
   "display_name": "Python 3 (ipykernel)",
   "language": "python",
   "name": "python3"
  },
  "language_info": {
   "codemirror_mode": {
    "name": "ipython",
    "version": 3
   },
   "file_extension": ".py",
   "mimetype": "text/x-python",
   "name": "python",
   "nbconvert_exporter": "python",
   "pygments_lexer": "ipython3",
   "version": "3.9.6"
  }
 },
 "nbformat": 4,
 "nbformat_minor": 5
}
