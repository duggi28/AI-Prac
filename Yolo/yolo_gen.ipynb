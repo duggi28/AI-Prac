{
  "cells": [
    {
      "cell_type": "code",
      "execution_count": null,
      "id": "hppHPAcxb8_f",
      "metadata": {
        "colab": {
          "base_uri": "https://localhost:8080/"
        },
        "id": "hppHPAcxb8_f",
        "outputId": "3080aa4a-0e81-4a39-a981-641d3c32d530"
      },
      "outputs": [
        {
          "name": "stdout",
          "output_type": "stream",
          "text": [
            "Mounted at /content/drive/\n"
          ]
        }
      ],
      "source": [
        "from google.colab import drive\n",
        "drive.mount('/content/drive/')\n"
      ]
    },
    {
      "cell_type": "code",
      "execution_count": null,
      "id": "bbc0154c-8c8e-4afb-85a0-108627173597",
      "metadata": {
        "colab": {
          "base_uri": "https://localhost:8080/"
        },
        "id": "bbc0154c-8c8e-4afb-85a0-108627173597",
        "outputId": "c6c63bd1-58fa-41df-a030-4a8da4f1bdff"
      },
      "outputs": [
        {
          "name": "stdout",
          "output_type": "stream",
          "text": [
            "25631\n"
          ]
        }
      ],
      "source": [
        "import numpy as np\n",
        "import pandas as pd\n",
        "\n",
        "\n",
        "image_path = \"/content/drive/MyDrive/yolov8/images.csv\"\n",
        "# Count the total number of lines in the images CSV file\n",
        "num_lines_total = sum(1 for _ in open(image_path))\n",
        "print(num_lines_total)\n",
        "\n",
        "# Read the selected image vectors from the CSV file using numpy\n",
        "images = pd.read_csv(image_path,header=None).values"
      ]
    },
    {
      "cell_type": "markdown",
      "id": "ZP_wfdNr3fum",
      "metadata": {
        "id": "ZP_wfdNr3fum"
      },
      "source": []
    },
    {
      "cell_type": "code",
      "execution_count": null,
      "id": "072f76ce-0d54-4f6c-8875-52b8c7c712f7",
      "metadata": {
        "id": "072f76ce-0d54-4f6c-8875-52b8c7c712f7"
      },
      "outputs": [],
      "source": [
        "label_path = \"/content/drive/MyDrive/yolov8/labels.csv\"\n",
        "labels = pd.read_csv(label_path,header=None).values"
      ]
    },
    {
      "cell_type": "code",
      "execution_count": null,
      "id": "15022181-aa0e-44c9-bcdb-45222f24ba75",
      "metadata": {
        "colab": {
          "base_uri": "https://localhost:8080/"
        },
        "id": "15022181-aa0e-44c9-bcdb-45222f24ba75",
        "outputId": "e164d14b-a0f2-4894-a9cc-f2c0954f3642"
      },
      "outputs": [
        {
          "name": "stdout",
          "output_type": "stream",
          "text": [
            "(25632, 1)\n"
          ]
        }
      ],
      "source": []
    },
    {
      "cell_type": "code",
      "execution_count": null,
      "id": "0828c807-b1c2-45dd-b8ee-fa421e7e1b8a",
      "metadata": {
        "colab": {
          "base_uri": "https://localhost:8080/"
        },
        "id": "0828c807-b1c2-45dd-b8ee-fa421e7e1b8a",
        "outputId": "3b62667c-b4f7-42fd-ae25-8a295df7ad0d"
      },
      "outputs": [
        {
          "name": "stdout",
          "output_type": "stream",
          "text": [
            "{0: '0x3042', 1: '0x3044', 2: '0x3046', 3: '0x3048', 4: '0x304a', 5: '0x304b', 6: '0x304c', 7: '0x304d', 8: '0x304e', 9: '0x304f', 10: '0x3050', 11: '0x3051', 12: '0x3052', 13: '0x3053', 14: '0x3054', 15: '0x3055', 16: '0x3056', 17: '0x3057', 18: '0x3058', 19: '0x3059', 20: '0x305a', 21: '0x305b', 22: '0x305c', 23: '0x305d', 24: '0x305e', 25: '0x305f', 26: '0x3060', 27: '0x3061', 28: '0x3062', 29: '0x3064', 30: '0x3065', 31: '0x3066', 32: '0x3067', 33: '0x3068', 34: '0x3069', 35: '0x306a', 36: '0x306b', 37: '0x306c', 38: '0x306d', 39: '0x306e', 40: '0x306f', 41: '0x3070', 42: '0x3071', 43: '0x3072', 44: '0x3073', 45: '0x3074', 46: '0x3075', 47: '0x3076', 48: '0x3077', 49: '0x3078', 50: '0x3079', 51: '0x307a', 52: '0x307b', 53: '0x307c', 54: '0x307d', 55: '0x307e', 56: '0x307f', 57: '0x3080', 58: '0x3081', 59: '0x3082', 60: '0x3084', 61: '0x3086', 62: '0x3088', 63: '0x3089', 64: '0x308a', 65: '0x308b', 66: '0x308c', 67: '0x308d', 68: '0x308f', 69: '0x3092', 70: '0x3093'}\n"
          ]
        }
      ],
      "source": [
        "import os\n",
        "unicode_to_class={}\n",
        "class_to_unicode={}\n",
        "unicodes=[\"3042\", \"3044\", \"3046\", \"3048\", \"304a\", \"304b\", \"304c\", \"304d\", \"304e\", \"304f\", \"3050\", \"3051\", \"3052\", \"3053\", \"3054\", \"3055\", \"3056\", \"3057\", \"3058\", \"3059\", \"305a\", \"305b\", \"305c\", \"305d\", \"305e\", \"305f\", \"3060\", \"3061\", \"3062\", \"3064\", \"3065\", \"3066\", \"3067\", \"3068\", \"3069\", \"306a\", \"306b\", \"306c\", \"306d\", \"306e\", \"306f\", \"3070\", \"3071\", \"3072\", \"3073\", \"3074\", \"3075\", \"3076\", \"3077\", \"3078\", \"3079\", \"307a\", \"307b\", \"307c\", \"307d\", \"307e\", \"307f\", \"3080\", \"3081\", \"3082\", \"3084\", \"3086\", \"3088\", \"3089\", \"308a\", \"308b\", \"308c\", \"308d\", \"308f\", \"3092\", \"3093\"]\n",
        "count=0\n",
        "for u in unicodes:\n",
        "    hex=\"0x\"+u\n",
        "    unicode_to_class[hex]=count\n",
        "    class_to_unicode[count]=hex\n",
        "    count+=1\n",
        "print(class_to_unicode)"
      ]
    },
    {
      "cell_type": "code",
      "execution_count": null,
      "id": "45056a18-808b-4cdd-849d-ae418b0df09e",
      "metadata": {
        "colab": {
          "base_uri": "https://localhost:8080/"
        },
        "id": "45056a18-808b-4cdd-849d-ae418b0df09e",
        "outputId": "4fbb43c6-6e2c-4bd4-efb1-409ba19f0937"
      },
      "outputs": [
        {
          "name": "stdout",
          "output_type": "stream",
          "text": [
            "あいうえおかがきぎくぐけげこごさざしじすずせぜそぞただちぢつづてでとどなにぬねのはばぱひびぴふぶぷへべぺほぼぽまみむめもやゆよらりるれろわをん\n"
          ]
        }
      ],
      "source": [
        "tmp=\"\"\n",
        "for hex in unicodes:\n",
        "    tmp+=chr(int(\"0x\"+hex, 16))\n",
        "print(tmp)"
      ]
    },
    {
      "cell_type": "code",
      "execution_count": null,
      "id": "01ace0a4-8ac0-44cf-8ed7-88e90969571b",
      "metadata": {
        "colab": {
          "background_save": true
        },
        "id": "01ace0a4-8ac0-44cf-8ed7-88e90969571b"
      },
      "outputs": [],
      "source": [
        "### FIXED!\n",
        "\n",
        "\n",
        "import random\n",
        "import matplotlib.pyplot as plt\n",
        "import cv2\n",
        "import os\n",
        "import json\n",
        "%matplotlib inline\n",
        "from matplotlib import pyplot as plt\n",
        "\n",
        "\n",
        "# Define the number of image vectors to extract\n",
        "\n",
        "_padding = 20\n",
        "_num_pages = 80\n",
        "_num_data = 1\n",
        "\n",
        "# path=\"/content/drive/MyDrive/yolov8/Data/Test/images\" #this is the folder to store the images\n",
        "path=\"/content/drive/MyDrive/yolov8/Data/Training/images\" #this is the folder to store the images\n",
        "sentence_labels={}\n",
        "\n",
        "def pad_with(vector, pad_width, iaxis, kwargs):\n",
        "    pad_value = kwargs.get('padder', 10)\n",
        "    vector[:pad_width[0]] = pad_value\n",
        "    vector[-pad_width[1]:] = pad_value\n",
        "\n",
        "for data in range(_num_data):\n",
        "  #randomize number of words per line\n",
        "  # _num_words = random.randint(10, 20 )\n",
        "  _num_words = 15\n",
        "  #randomize number of lines\n",
        "  # _num_lines = random.randint(15, 40)\n",
        "  _num_lines = 20\n",
        "  #randomize padding\n",
        "\n",
        "\n",
        "\n",
        "  for data in range(_num_pages):\n",
        "      # f = open(f\"/content/drive/MyDrive/yolov8/Data/Test/labels/{data}.txt\", \"w\", encoding='utf-8')\n",
        "      f = open(f\"/content/drive/MyDrive/yolov8/Data/Training/labels/{data}.txt\", \"w\", encoding='utf-8')\n",
        "\n",
        "      page=[]\n",
        "      for i in range(_num_lines):\n",
        "          line=[]\n",
        "          for j in range(_num_words):\n",
        "\n",
        "              rand = random.randint(0,num_lines_total-1)\n",
        "\n",
        "              # images 48 by 48 pixels\n",
        "              width = 48\n",
        "              height = 48\n",
        "\n",
        "              ### randomize size of the word by cropping. instead of cropping width 8:40, crop 0 - 48\n",
        "              ### also can crop height differently\n",
        "\n",
        "              char = images[rand].reshape(width,height)[:,8:40]\n",
        "              ## pad top and left of image with _padding\n",
        "              char = np.pad(char, ((_padding//2, _padding//2), (_padding//2, _padding//2)), mode='constant', constant_values=255)\n",
        "              # print(char.shape)\n",
        "              w = 32\n",
        "\n",
        "              line.append(char)\n",
        "              # x_center = j*(width) + (_padding/2 + width / 2)\n",
        "              x_center = j * (w + _padding/2) + _padding + w/2\n",
        "\n",
        "              # y_center = (_num_lines-i-0.5)*48+_padding\n",
        "              # y_center = (_padding/2 + height / 2) + i * (height)\n",
        "              y_center = i * (height + _padding/2) + _padding + height/2\n",
        "              f.write(\"0 \"+str(x_center/(_num_words*(w + _padding/2) + _padding*3/2 ))+\" \"+str(y_center/(_num_lines*(height + _padding/2) + _padding*3/2 ))+\" \"+str(20/(_num_words*width+10))+\" \"+str(20/(_num_lines*height+10))+\"\\n\")\n",
        "\n",
        "              # f.write(\"0 \"+str(x_center/(_num_words*width+10))+\" \"+str(y_center/(_num_lines*height+10))+\" \"+str(20/(_num_words*width+10))+\" \"+str(20/(_num_lines*height+10))+\"\\n\")\n",
        "          line=np.hstack(line)\n",
        "\n",
        "          page.append(line)\n",
        "\n",
        "      img=np.vstack(page)\n",
        "      img=np.pad(img, _padding, pad_with, padder=255)\n",
        "      # plt.imshow(img, interpolation='nearest')\n",
        "      # plt.show()\n",
        "      cv2.imwrite(os.path.join(path,str(data)+'.jpg'), img)\n",
        "\n",
        "\n",
        "  f.close()"
      ]
    },
    {
      "cell_type": "code",
      "execution_count": null,
      "id": "O6OP7HxG3dg9",
      "metadata": {
        "id": "O6OP7HxG3dg9"
      },
      "outputs": [],
      "source": [
        "### FIXED!\n",
        "\n",
        "\n",
        "import random\n",
        "import matplotlib.pyplot as plt\n",
        "import cv2\n",
        "import os\n",
        "import json\n",
        "%matplotlib inline\n",
        "from matplotlib import pyplot as plt\n",
        "\n",
        "\n",
        "# Define the number of image vectors to extract\n",
        "\n",
        "_padding = 20\n",
        "_num_pages = 1\n",
        "_num_data = 1\n",
        "\n",
        "path=\"/content/drive/MyDrive/yolov8/Data/Test/images\" #this is the folder to store the images\n",
        "# path=\"/content/drive/MyDrive/yolov8/Data/Training/images\" #this is the folder to store the images\n",
        "sentence_labels={}\n",
        "\n",
        "def pad_with(vector, pad_width, iaxis, kwargs):\n",
        "    pad_value = kwargs.get('padder', 10)\n",
        "    vector[:pad_width[0]] = pad_value\n",
        "    vector[-pad_width[1]:] = pad_value\n",
        "\n",
        "for data in range(_num_data):\n",
        "  #randomize number of words per line\n",
        "  # _num_words = random.randint(10, 20 )\n",
        "  _num_words = 15\n",
        "  #randomize number of lines\n",
        "  # _num_lines = random.randint(15, 40)\n",
        "  _num_lines = 20\n",
        "  #randomize padding\n",
        "\n",
        "\n",
        "\n",
        "  for data in range(_num_pages):\n",
        "      f = open(f\"/content/drive/MyDrive/yolov8/Data/Test/labels/{data}.txt\", \"w\", encoding='utf-8')\n",
        "      # f = open(f\"/content/drive/MyDrive/yolov8/Data/Training/labels/{data}.txt\", \"w\", encoding='utf-8')\n",
        "\n",
        "      page=[]\n",
        "      for i in range(_num_lines):\n",
        "          line=[]\n",
        "          for j in range(_num_words):\n",
        "\n",
        "              rand = random.randint(0,num_lines_total-1)\n",
        "\n",
        "              # images 48 by 48 pixels\n",
        "              width = 48\n",
        "              height = 48\n",
        "\n",
        "              ### randomize size of the word by cropping. instead of cropping width 8:40, crop 0 - 48\n",
        "              ### also can crop height differently\n",
        "\n",
        "              char = images[rand].reshape(width,height)[:,8:40]\n",
        "              ## pad top and left of image with _padding\n",
        "              char = np.pad(char, ((_padding//2, _padding//2), (_padding//2, _padding//2)), mode='constant', constant_values=0)\n",
        "              # print(char.shape)\n",
        "              w = 32\n",
        "\n",
        "              line.append(char)\n",
        "              # x_center = j*(width) + (_padding/2 + width / 2)\n",
        "              x_center = j * (w + _padding/2) + _padding + w/2\n",
        "\n",
        "              # y_center = (_num_lines-i-0.5)*48+_padding\n",
        "              # y_center = (_padding/2 + height / 2) + i * (height)\n",
        "              y_center = i * (height + _padding/2) + _padding + height/2\n",
        "              f.write(\"0 \"+str(x_center/(_num_words*(w + _padding/2) + _padding*3/2 ))+\" \"+str(y_center/(_num_lines*(height + _padding/2) + _padding*3/2 ))+\" \"+str(20/(_num_words*width+10))+\" \"+str(20/(_num_lines*height+10))+\"\\n\")\n",
        "\n",
        "              # f.write(\"0 \"+str(x_center/(_num_words*width+10))+\" \"+str(y_center/(_num_lines*height+10))+\" \"+str(20/(_num_words*width+10))+\" \"+str(20/(_num_lines*height+10))+\"\\n\")\n",
        "          line=np.hstack(line)\n",
        "\n",
        "          page.append(line)\n",
        "\n",
        "      img=np.vstack(page)\n",
        "      img=np.pad(img, _padding, pad_with, padder=0)\n",
        "      # plt.imshow(img, interpolation='nearest')\n",
        "      # plt.show()\n",
        "      cv2.imwrite(os.path.join(path,str(data)+'.jpg'), img)\n",
        "\n",
        "\n",
        "  f.close()"
      ]
    }
  ],
  "metadata": {
    "accelerator": "GPU",
    "colab": {
      "gpuType": "T4",
      "provenance": []
    },
    "kernelspec": {
      "display_name": "Python 3",
      "name": "python3"
    },
    "language_info": {
      "codemirror_mode": {
        "name": "ipython",
        "version": 3
      },
      "file_extension": ".py",
      "mimetype": "text/x-python",
      "name": "python",
      "nbconvert_exporter": "python",
      "pygments_lexer": "ipython3",
      "version": "3.10.13"
    }
  },
  "nbformat": 4,
  "nbformat_minor": 5
}